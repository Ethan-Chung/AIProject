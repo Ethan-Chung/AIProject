{
 "cells": [
  {
   "cell_type": "code",
   "execution_count": 9,
   "metadata": {},
   "outputs": [],
   "source": [
    "# Calculate the weight of a state given the goal\n",
    "def calculate_weight(state: list, goal: list) -> int:\n",
    "    weight = 0\n",
    "\n",
    "    for i in range(len(state)):\n",
    "        block = state[i]\n",
    "\n",
    "        # Find where we want the block to be\n",
    "        goal_index = goal.index(block)\n",
    "\n",
    "        # The block should be contained in the goal state\n",
    "        assert goal_index >= 0\n",
    "\n",
    "        # Find the block it should be above (unless it is at the bottom of the stack)\n",
    "        should_be_above = None if goal_index == 0 else goal[goal_index - 1]\n",
    "\n",
    "        # Calculate weight operator\n",
    "        is_above_correct = i >= 0 if should_be_above is None else state.index(should_be_above) <= i\n",
    "        is_incorrect_position = i != goal_index\n",
    "\n",
    "        if is_above_correct:\n",
    "            weight += 1\n",
    "\n",
    "        if is_incorrect_position:\n",
    "            weight -= 1\n",
    "\n",
    "    return weight"
   ]
  },
  {
   "cell_type": "code",
   "execution_count": 10,
   "metadata": {},
   "outputs": [],
   "source": [
    "# A simple function to generate a new list with two elements swapped\n",
    "def swapped(state: list, a: int, b: int) -> list:\n",
    "    new_list = []\n",
    "\n",
    "    for i in range(len(state)):\n",
    "        if i == a:\n",
    "            new_list.insert(i, state[b])\n",
    "        elif i == b:\n",
    "            new_list.insert(i, state[a])\n",
    "        else:\n",
    "            new_list.insert(i, state[i])\n",
    "\n",
    "    return new_list"
   ]
  },
  {
   "cell_type": "code",
   "execution_count": 11,
   "metadata": {},
   "outputs": [],
   "source": [
    "# Simple hill-climbing algorithm using the steepest-ascent variant\n",
    "def perform_step(current: list, goal: list) -> (list, int):\n",
    "    # Keep track of the best candidate so far (steepest-ascent)\n",
    "    successor = current\n",
    "    successor_weight = -1\n",
    "\n",
    "    for i in range(0, len(current) - 1):\n",
    "        # Generate a new state and calculate the weight\n",
    "        candidate = swapped(current, i, i + 1)\n",
    "        candidate_weight = calculate_weight(candidate, goal)\n",
    "\n",
    "        # Compare with current best candidate\n",
    "        if candidate_weight > successor_weight:\n",
    "            successor = candidate\n",
    "            successor_weight = candidate_weight\n",
    "\n",
    "    return successor, successor_weight"
   ]
  },
  {
   "cell_type": "code",
   "execution_count": 16,
   "metadata": {},
   "outputs": [
    {
     "name": "stdout",
     "output_type": "stream",
     "text": [
      "Step 1: ['B', 'C', 'D', 'E', 'F', 'G', 'A', 'H'], weight: 0\n",
      "Step 2: ['B', 'C', 'D', 'E', 'F', 'A', 'G', 'H'], weight: 1\n",
      "Step 3: ['B', 'C', 'D', 'E', 'A', 'F', 'G', 'H'], weight: 2\n",
      "Step 4: ['B', 'C', 'D', 'A', 'E', 'F', 'G', 'H'], weight: 3\n",
      "Step 5: ['B', 'C', 'A', 'D', 'E', 'F', 'G', 'H'], weight: 4\n",
      "Step 6: ['B', 'A', 'C', 'D', 'E', 'F', 'G', 'H'], weight: 5\n",
      "Step 7: ['A', 'B', 'C', 'D', 'E', 'F', 'G', 'H'], weight: 8\n",
      "Finished execution\n",
      "Solution found: True\n",
      "Final state: ['A', 'B', 'C', 'D', 'E', 'F', 'G', 'H']\n"
     ]
    }
   ],
   "source": [
    "if __name__ == '__main__':\n",
    "    # Set up the simulation\n",
    "    initial_state = ['B', 'C', 'D', 'E', 'F', 'G', 'H', 'A']\n",
    "    goal_state = ['A', 'B', 'C', 'D', 'E', 'F', 'G', 'H']\n",
    "\n",
    "    current_state = initial_state\n",
    "\n",
    "    # Run until a solution is found\n",
    "    current_step = 1\n",
    "    while current_state != goal_state:\n",
    "        # Compute the next state\n",
    "        next_state, step_weight = perform_step(current_state, goal_state)\n",
    "\n",
    "        # Common pitfalls not avoided by this implementation\n",
    "        if next_state == current_state:\n",
    "            print(\"Infinite loop detected (might be local maximum or plateau)\")\n",
    "            break\n",
    "\n",
    "        # Advance the simulation\n",
    "        current_state = next_state\n",
    "\n",
    "        # Pretty logging\n",
    "        print(f\"Step {current_step}: {current_state}, weight: {step_weight}\")\n",
    "        current_step += 1\n",
    "\n",
    "    # Announce the result\n",
    "    print(\"Finished execution\")\n",
    "    print(f\"Solution found: {current_state == goal_state}\")\n",
    "    print(f\"Final state: {current_state}\")"
   ]
  }
 ],
 "metadata": {
  "kernelspec": {
   "display_name": "venv",
   "language": "python",
   "name": "python3"
  },
  "language_info": {
   "codemirror_mode": {
    "name": "ipython",
    "version": 3
   },
   "file_extension": ".py",
   "mimetype": "text/x-python",
   "name": "python",
   "nbconvert_exporter": "python",
   "pygments_lexer": "ipython3",
   "version": "3.10.2"
  },
  "orig_nbformat": 4
 },
 "nbformat": 4,
 "nbformat_minor": 2
}
